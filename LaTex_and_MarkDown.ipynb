{
  "nbformat": 4,
  "nbformat_minor": 0,
  "metadata": {
    "colab": {
      "name": "LaTex and MarkDown.ipynb",
      "provenance": [],
      "collapsed_sections": [],
      "authorship_tag": "ABX9TyOCwTQ5HlYp5BpgLGCp7Xw4",
      "include_colab_link": true
    },
    "kernelspec": {
      "name": "python3",
      "display_name": "Python 3"
    },
    "language_info": {
      "name": "python"
    }
  },
  "cells": [
    {
      "cell_type": "markdown",
      "metadata": {
        "id": "view-in-github",
        "colab_type": "text"
      },
      "source": [
        "<a href=\"https://colab.research.google.com/github/Sabelo-Sabs/Machine-Learning-2021/blob/main/LaTex_and_MarkDown.ipynb\" target=\"_parent\"><img src=\"https://colab.research.google.com/assets/colab-badge.svg\" alt=\"Open In Colab\"/></a>"
      ]
    },
    {
      "cell_type": "markdown",
      "source": [
        "## **Question from the textbook Collge Algeba by Sheldon Axler** ✅"
      ],
      "metadata": {
        "id": "m2RmL-83k06N"
      }
    },
    {
      "cell_type": "markdown",
      "source": [
        "# find a number ***t*** such that the line containing the points (1,***t***) and (3,7) has the slope 5. "
      ],
      "metadata": {
        "id": "eqiION7tmEBu"
      }
    },
    {
      "cell_type": "markdown",
      "source": [
        "<br/>\n",
        "<br/>\n",
        "\n",
        "# <center/> **Answer** <center/>"
      ],
      "metadata": {
        "id": "mOUKbGGcmrYB"
      }
    },
    {
      "cell_type": "markdown",
      "source": [
        "\n",
        "$\\frac{y_2 - y_1}{x_2 - x_1}= slope$ \n",
        "\n",
        "## (1,$t$) corresponds to $x_1,y_1$ and (3,7) corresponds to $x_2,y_2$\n",
        "\n",
        "## therefore: \n",
        "## $\\frac{7-t}{3-1}=5$\n",
        "## $\\frac{7-t}{2}=5$\n",
        "\n",
        "## $7-t= 5(2)$\n",
        "## $7-t=10$\n",
        "## $-t=10-7$\n",
        "## $-t=3$\n",
        "## $t=-3$\n",
        "\n",
        "## The answer is $t$ = -3\n"
      ],
      "metadata": {
        "id": "2Wlqamy6oLnd"
      }
    },
    {
      "cell_type": "markdown",
      "source": [
        "-----"
      ],
      "metadata": {
        "id": "01RuF7CntBdN"
      }
    },
    {
      "cell_type": "markdown",
      "source": [
        "# **Question from textbook Calculus 8th Edition by James Stewart**"
      ],
      "metadata": {
        "id": "9fj01jIwtb8M"
      }
    },
    {
      "cell_type": "markdown",
      "source": [
        "## How would you ewmove discontinuity of $f$ in other words, how would you define $f(2)$ in order to make $f$  continous at 2?\n",
        "\n",
        "## $f(x) = \\frac{x^2 - x - 2}{x - 2}$"
      ],
      "metadata": {
        "id": "QHMYZ71Tt4yL"
      }
    },
    {
      "cell_type": "markdown",
      "source": [
        "# <center/> **Answer** <center/>\n",
        "\n",
        "## We need to factor out the binomial, $x^2 - x - 2$\n",
        "## $(x-2)(x +1)$\n",
        "therefore:\n",
        "## $f(x) = \\frac{(x-2)(x+1)}{x - 2}$\n",
        "## Next cancel the $(x-2)$\n",
        "$f(x) = {x + 1}$\n",
        "## AND:\n",
        "## $f(2) = (2)+1$\n",
        "## $f(2)= 3$\n",
        "\n",
        "\n",
        "## $f$ is continous at 2"
      ],
      "metadata": {
        "id": "bczx9gjbkeyZ"
      }
    },
    {
      "cell_type": "markdown",
      "source": [
        "-----------"
      ],
      "metadata": {
        "id": "oBs9e-CJvXY4"
      }
    }
  ]
}