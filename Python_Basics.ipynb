{
  "nbformat": 4,
  "nbformat_minor": 0,
  "metadata": {
    "colab": {
      "name": "Python_Basics.ipynb",
      "provenance": [],
      "collapsed_sections": [
        "pBL3RIbLTPov",
        "iFKSLrnMU5tB",
        "Htm6nx9AXMA3",
        "IjFAWO2Rai-d"
      ],
      "include_colab_link": true
    },
    "kernelspec": {
      "name": "python3",
      "display_name": "Python 3"
    },
    "language_info": {
      "name": "python"
    }
  },
  "cells": [
    {
      "cell_type": "markdown",
      "metadata": {
        "id": "view-in-github",
        "colab_type": "text"
      },
      "source": [
        "<a href=\"https://colab.research.google.com/github/Sabelo-Sabs/Machine-Learning-2021/blob/main/Python_Basics.ipynb\" target=\"_parent\"><img src=\"https://colab.research.google.com/assets/colab-badge.svg\" alt=\"Open In Colab\"/></a>"
      ]
    },
    {
      "cell_type": "markdown",
      "source": [
        "Programming Languages Used For Machine Learning:\n",
        "\n",
        "\n",
        "1.   Python\n",
        "2.   R\n",
        "\n"
      ],
      "metadata": {
        "id": "FvjGbRW9SsuC"
      }
    },
    {
      "cell_type": "markdown",
      "source": [
        "#***print function:***"
      ],
      "metadata": {
        "id": "pBL3RIbLTPov"
      }
    },
    {
      "cell_type": "code",
      "execution_count": null,
      "metadata": {
        "colab": {
          "base_uri": "https://localhost:8080/"
        },
        "id": "AWKKwBNVOpPi",
        "outputId": "411bf199-c40f-4841-b1d3-4a37dfa9940f"
      },
      "outputs": [
        {
          "output_type": "stream",
          "name": "stdout",
          "text": [
            "Hello AI\n"
          ]
        }
      ],
      "source": [
        "print(\"Hello AI\") # Double Quotes Are Recommended."
      ]
    },
    {
      "cell_type": "code",
      "source": [
        "print(8) # only strings are enclosed by prentheses"
      ],
      "metadata": {
        "id": "O3LDCOtcUwUI"
      },
      "execution_count": null,
      "outputs": []
    },
    {
      "cell_type": "code",
      "source": [
        "print(246.577)"
      ],
      "metadata": {
        "id": "qzqlKQOnXX6L"
      },
      "execution_count": null,
      "outputs": []
    },
    {
      "cell_type": "markdown",
      "source": [
        "#Basic Data types:\n",
        "\n",
        "\n",
        "1.   int\n",
        "2.   float\n",
        "3. strings\n"
      ],
      "metadata": {
        "id": "iFKSLrnMU5tB"
      }
    },
    {
      "cell_type": "code",
      "source": [
        " type(2)"
      ],
      "metadata": {
        "colab": {
          "base_uri": "https://localhost:8080/"
        },
        "id": "rXNDk3XNVFXs",
        "outputId": "e43be67c-a6de-463c-f13c-a7c02d4b0a59"
      },
      "execution_count": null,
      "outputs": [
        {
          "output_type": "execute_result",
          "data": {
            "text/plain": [
              "int"
            ]
          },
          "metadata": {},
          "execution_count": 2
        }
      ]
    },
    {
      "cell_type": "code",
      "source": [
        "type(2.45)"
      ],
      "metadata": {
        "colab": {
          "base_uri": "https://localhost:8080/"
        },
        "id": "N4lGc1chXFgf",
        "outputId": "e8d23b49-dd25-48b4-e98c-2f192c54e780"
      },
      "execution_count": null,
      "outputs": [
        {
          "output_type": "execute_result",
          "data": {
            "text/plain": [
              "float"
            ]
          },
          "metadata": {},
          "execution_count": 4
        }
      ]
    },
    {
      "cell_type": "code",
      "source": [
        "type(\"Cape Town\")"
      ],
      "metadata": {
        "colab": {
          "base_uri": "https://localhost:8080/"
        },
        "id": "ONszNqqCV3dw",
        "outputId": "2263a09a-608a-4bac-dbe4-7ded79886ccd"
      },
      "execution_count": null,
      "outputs": [
        {
          "output_type": "execute_result",
          "data": {
            "text/plain": [
              "str"
            ]
          },
          "metadata": {},
          "execution_count": 3
        }
      ]
    },
    {
      "cell_type": "markdown",
      "source": [
        "# Constants And Variables"
      ],
      "metadata": {
        "id": "Htm6nx9AXMA3"
      }
    },
    {
      "cell_type": "markdown",
      "source": [
        "Variables are changeable whereas Constants are not changeable."
      ],
      "metadata": {
        "id": "Xb_I7sbdXpxG"
      }
    },
    {
      "cell_type": "code",
      "source": [
        "movie = \"Avatar\"\n",
        "Age = 15\n",
        "Height_in_cm = 167.5 "
      ],
      "metadata": {
        "id": "-_pTWpreV8er"
      },
      "execution_count": null,
      "outputs": []
    },
    {
      "cell_type": "code",
      "source": [
        "print(movie)"
      ],
      "metadata": {
        "colab": {
          "base_uri": "https://localhost:8080/"
        },
        "id": "-tvSvVNLY2j9",
        "outputId": "3e0b782c-ee57-4ad1-e027-156b97a26af5"
      },
      "execution_count": null,
      "outputs": [
        {
          "output_type": "stream",
          "name": "stdout",
          "text": [
            "Avatar\n"
          ]
        }
      ]
    },
    {
      "cell_type": "code",
      "source": [
        "movie = \"Ghost Busters\" # Changing our Variable movie\n",
        "print(movie)"
      ],
      "metadata": {
        "colab": {
          "base_uri": "https://localhost:8080/"
        },
        "id": "UfL75o-qZB49",
        "outputId": "fcb73c65-593e-4d89-82b7-38014b7e5644"
      },
      "execution_count": null,
      "outputs": [
        {
          "output_type": "stream",
          "name": "stdout",
          "text": [
            "Ghost Busters\n"
          ]
        }
      ]
    },
    {
      "cell_type": "code",
      "source": [
        "x = y = z = 39\n",
        "print(x)\n",
        "print(y)\n",
        "print(z)"
      ],
      "metadata": {
        "colab": {
          "base_uri": "https://localhost:8080/"
        },
        "id": "Dmhd9S5-ZMXl",
        "outputId": "9b039c06-7801-426c-83a6-eb95889c0af5"
      },
      "execution_count": null,
      "outputs": [
        {
          "output_type": "stream",
          "name": "stdout",
          "text": [
            "39\n",
            "39\n",
            "39\n"
          ]
        }
      ]
    },
    {
      "cell_type": "markdown",
      "source": [
        "# **print function**"
      ],
      "metadata": {
        "id": "IjFAWO2Rai-d"
      }
    },
    {
      "cell_type": "code",
      "source": [
        "name = input(\"What is your name: \")\n",
        "age = input(\"How old are you\")\n",
        "\n",
        "print(f\"Hello {name} nice to meet you, i'm also {age} years old.\")"
      ],
      "metadata": {
        "colab": {
          "base_uri": "https://localhost:8080/"
        },
        "id": "WLEp2hZ9aplp",
        "outputId": "abdedbec-f102-4191-caf8-cdf59bae1260"
      },
      "execution_count": null,
      "outputs": [
        {
          "output_type": "stream",
          "name": "stdout",
          "text": [
            "What is your name: sabelo\n",
            "How old are you23\n",
            "Hello sabelo nice to meet you, i'm also 23 years old.\n"
          ]
        }
      ]
    },
    {
      "cell_type": "code",
      "source": [
        "num1 = int(input(\"Enter the 1st number: \"))\n",
        "num2 = int(input(\"Enter the 2nd number: \")) \n",
        "print(f\"The sum of {num1} and {num2} is equal to {num1 + num2}\")"
      ],
      "metadata": {
        "colab": {
          "base_uri": "https://localhost:8080/"
        },
        "id": "NIzSdexHbRJv",
        "outputId": "2183b8e8-de67-40d9-bfe2-67734e54cd52"
      },
      "execution_count": null,
      "outputs": [
        {
          "output_type": "stream",
          "name": "stdout",
          "text": [
            "Enter the 1st number: 390\n",
            "Enter the 2nd number: 85738\n",
            "The sum of 390 and 85738 is equal to 86128\n"
          ]
        }
      ]
    },
    {
      "cell_type": "code",
      "source": [
        ""
      ],
      "metadata": {
        "id": "J_XWVxw9cD85"
      },
      "execution_count": null,
      "outputs": []
    }
  ]
}